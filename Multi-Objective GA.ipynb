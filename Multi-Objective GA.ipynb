{
 "cells": [
  {
   "cell_type": "code",
   "execution_count": 1,
   "metadata": {},
   "outputs": [],
   "source": [
    "import random"
   ]
  },
  {
   "cell_type": "code",
   "execution_count": 2,
   "metadata": {},
   "outputs": [],
   "source": [
    "def fun(x, y, z):\n",
    "    return 7*x**4 + 3*y**5 + 2*z**2 - 100"
   ]
  },
  {
   "cell_type": "code",
   "execution_count": 3,
   "metadata": {},
   "outputs": [],
   "source": [
    "def fitness(x, y, z):\n",
    "    ans = fun(x, y, z)\n",
    "    if ans == 0:\n",
    "        return 9999999\n",
    "    else:\n",
    "        return abs(1/ans)"
   ]
  },
  {
   "cell_type": "code",
   "execution_count": 4,
   "metadata": {},
   "outputs": [],
   "source": [
    "#initial population\n",
    "population = []\n",
    "for i in range(1000):\n",
    "    population.append( ( random.uniform(0, 10000),\n",
    "                      random.uniform(0, 10000),\n",
    "                      random.uniform(0, 10000) ) )\n",
    "    \n",
    "temp = ()"
   ]
  },
  {
   "cell_type": "code",
   "execution_count": 9,
   "metadata": {},
   "outputs": [
    {
     "name": "stdout",
     "output_type": "stream",
     "text": [
      "(1.6671783445900539, 1.6812679413449159, 1.6764961494567119)\n"
     ]
    }
   ],
   "source": [
    "#implemention Genetic Algoritm\n",
    "for it in range(10000):\n",
    "    rank = []\n",
    "    for individual in population:\n",
    "        rank.append((fitness(individual[0], individual[1], individual[2]), individual))\n",
    "    rank.sort()\n",
    "    rank.reverse()\n",
    "    rank = rank[:100]\n",
    "\n",
    "    pool = []\n",
    "    for i in rank:\n",
    "        pool.append(i[1][0])\n",
    "        pool.append(i[1][1])\n",
    "        pool.append(i[1][2])\n",
    "\n",
    "    new_population = []\n",
    "    for _ in range(1000):\n",
    "        x = random.choice(pool) * random.uniform(0.99, 1.01)\n",
    "        y = random.choice(pool) * random.uniform(0.99, 1.01)\n",
    "        z = random.choice(pool) * random.uniform(0.99, 1.01)\n",
    "        new_population.append((x, y, z))\n",
    "\n",
    "    population = new_population\n",
    "    local_best_fit = rank[0][1]\n",
    "\n",
    "    if fitness(local_best_fit[0], local_best_fit[1], local_best_fit[2]) >= 10000:\n",
    "        print(local_best_fit)\n",
    "        temp = local_best_fit\n",
    "        break\n",
    "    # print(it, rank[0][0])"
   ]
  },
  {
   "cell_type": "code",
   "execution_count": 10,
   "metadata": {},
   "outputs": [
    {
     "name": "stdout",
     "output_type": "stream",
     "text": [
      "6.406507768019765e-05\n"
     ]
    }
   ],
   "source": [
    "print(fun(temp[0], temp[1], temp[2]))"
   ]
  }
 ],
 "metadata": {
  "kernelspec": {
   "display_name": "Python 3",
   "language": "python",
   "name": "python3"
  },
  "language_info": {
   "codemirror_mode": {
    "name": "ipython",
    "version": 3
   },
   "file_extension": ".py",
   "mimetype": "text/x-python",
   "name": "python",
   "nbconvert_exporter": "python",
   "pygments_lexer": "ipython3",
   "version": "3.10.9"
  },
  "orig_nbformat": 4
 },
 "nbformat": 4,
 "nbformat_minor": 2
}
