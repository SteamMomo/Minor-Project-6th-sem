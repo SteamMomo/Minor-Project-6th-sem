{
 "cells": [
  {
   "cell_type": "code",
   "execution_count": 1,
   "metadata": {},
   "outputs": [],
   "source": [
    "import random"
   ]
  },
  {
   "cell_type": "code",
   "execution_count": 2,
   "metadata": {},
   "outputs": [],
   "source": [
    "def function(x, y, z):\n",
    "    return 5*x + 7*y**3 - 3*z**9"
   ]
  },
  {
   "cell_type": "code",
   "execution_count": 3,
   "metadata": {},
   "outputs": [],
   "source": [
    "def fitness(x, y, z):\n",
    "    ans = function(x, y, z)\n",
    "    if ans == 0:\n",
    "        return 99999999999\n",
    "    else:\n",
    "        return abs(1/ans)\n",
    "    # return ans"
   ]
  },
  {
   "cell_type": "code",
   "execution_count": 4,
   "metadata": {},
   "outputs": [],
   "source": [
    "def tournament(rank):\n",
    "    random.shuffle(rank)\n",
    "    loc_max = (0, (0, 0, 0))\n",
    "    glob_max = []\n",
    "    for i in range(len(rank)):\n",
    "        if loc_max[0] < rank[i][0]:\n",
    "            loc_max = rank[i]\n",
    "        if (i+1)%10 == 0:\n",
    "            glob_max.append(loc_max)\n",
    "            loc_max = (0, (0, 0, 0))\n",
    "    \n",
    "    x = []\n",
    "    y = []\n",
    "    z = []\n",
    "    most_fit = (0, (0, 0, 0))\n",
    "    for i in glob_max:\n",
    "        x.append(i[1][0])\n",
    "        y.append(i[1][1])\n",
    "        z.append(i[1][2])\n",
    "        if most_fit[0] < i[0]:\n",
    "            most_fit = i\n",
    "\n",
    "    return x, y, z, most_fit\n"
   ]
  },
  {
   "cell_type": "code",
   "execution_count": 5,
   "metadata": {},
   "outputs": [],
   "source": [
    "def reproduction(x, y, z):\n",
    "    temp_pop = []\n",
    "    for i in range(len(x)):\n",
    "        temp_pop.append(x[i])\n",
    "        temp_pop.append(y[i])\n",
    "        temp_pop.append(z[i])\n",
    "\n",
    "    random.shuffle(temp_pop)\n",
    "\n",
    "    new_x = []\n",
    "    new_y = []\n",
    "    new_z = []\n",
    "    for _ in range(100):\n",
    "        new_x.append(random.choice(temp_pop) * random.uniform(0.99, 1.01))\n",
    "        new_y.append(random.choice(temp_pop) * random.uniform(0.99, 1.01)) \n",
    "        new_z.append(random.choice(temp_pop) * random.uniform(0.99, 1.01))\n",
    "\n",
    "    return new_x, new_y, new_z"
   ]
  },
  {
   "cell_type": "code",
   "execution_count": 6,
   "metadata": {},
   "outputs": [],
   "source": [
    "def tournament2(rank):\n",
    "    random.shuffle(rank)\n",
    "    glob_max = []\n",
    "    for i in range(len(rank)):\n",
    "        loc_max = (0, (0, 0, 0))\n",
    "        for _ in range(10):\n",
    "            temp = random.choice(rank)\n",
    "            if loc_max[0] < temp[0]:\n",
    "                loc_max =  temp\n",
    "        glob_max.append(loc_max)\n",
    "\n",
    "    x = []\n",
    "    y = []\n",
    "    z = []\n",
    "    most_fit = (0, (0, 0, 0))\n",
    "    for i in glob_max:\n",
    "        x.append(i[1][0])\n",
    "        y.append(i[1][1])\n",
    "        z.append(i[1][2])\n",
    "        if most_fit[0] < i[0]:\n",
    "            most_fit = i\n",
    "\n",
    "    return x, y, z, most_fit\n",
    "\n",
    "# single point crossover\n",
    "def reproduction2(x, y, z):\n",
    "    random.shuffle(z)\n",
    "\n",
    "    for i in range(len(x)):\n",
    "        x[i] = x[i] * random.uniform(0.9, 1.1)\n",
    "        y[i] = y[i] * random.uniform(0.9, 1.1)\n",
    "        z[i] = z[i] * random.uniform(0.9, 1.1)\n",
    "\n",
    "    return x, y, z"
   ]
  },
  {
   "cell_type": "code",
   "execution_count": 7,
   "metadata": {},
   "outputs": [],
   "source": [
    "x_pop = []\n",
    "y_pop = []\n",
    "z_pop = []\n",
    "\n",
    "for i in range(100):\n",
    "    x_pop.append(random.uniform(-10000, 10000))\n",
    "    y_pop.append(random.uniform(-10000, 10000))\n",
    "    z_pop.append(random.uniform(-10000, 10000))"
   ]
  },
  {
   "cell_type": "code",
   "execution_count": 12,
   "metadata": {},
   "outputs": [
    {
     "name": "stdout",
     "output_type": "stream",
     "text": [
      "(14654.827749140492, (-1.238526517628181, -1.2292770092985856, -1.2290372026522238))\n"
     ]
    }
   ],
   "source": [
    "xf = 0\n",
    "yf = 0\n",
    "zf = 0\n",
    "for it in range(10000):\n",
    "    rank = []\n",
    "    for i in range(len(x_pop)):\n",
    "        rank.append((fitness(x_pop[i], y_pop[i], z_pop[i]), (x_pop[i], y_pop[i], z_pop[i])))\n",
    "\n",
    "    # selection\n",
    "    x, y, z, most_fit = tournament(rank)\n",
    "\n",
    "    # crossover\n",
    "    x_pop, y_pop, z_pop = reproduction(x, y, z)\n",
    "\n",
    "    if most_fit[0] > 10000:\n",
    "        print(most_fit)\n",
    "        xf = most_fit[1][0]\n",
    "        yf = most_fit[1][1]\n",
    "        zf = most_fit[1][2]\n",
    "        break\n",
    "    # print(most_fit)"
   ]
  },
  {
   "cell_type": "code",
   "execution_count": 13,
   "metadata": {},
   "outputs": [
    {
     "name": "stdout",
     "output_type": "stream",
     "text": [
      "6.823689893309393e-05\n"
     ]
    }
   ],
   "source": [
    "print(function(xf, yf, zf))"
   ]
  },
  {
   "cell_type": "code",
   "execution_count": null,
   "metadata": {},
   "outputs": [],
   "source": []
  }
 ],
 "metadata": {
  "kernelspec": {
   "display_name": "Python 3",
   "language": "python",
   "name": "python3"
  },
  "language_info": {
   "codemirror_mode": {
    "name": "ipython",
    "version": 3
   },
   "file_extension": ".py",
   "mimetype": "text/x-python",
   "name": "python",
   "nbconvert_exporter": "python",
   "pygments_lexer": "ipython3",
   "version": "3.10.9"
  },
  "orig_nbformat": 4
 },
 "nbformat": 4,
 "nbformat_minor": 2
}
