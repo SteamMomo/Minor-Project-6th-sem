{
 "cells": [
  {
   "cell_type": "code",
   "execution_count": 1,
   "metadata": {},
   "outputs": [],
   "source": [
    "import pandas as pd\n",
    "import re\n",
    "from sklearn.model_selection import train_test_split\n",
    "from sklearn.feature_extraction.text import CountVectorizer\n",
    "import time\n",
    "from sklearn.metrics import accuracy_score, confusion_matrix\n",
    "import gensim\n",
    "from sklearn.svm import LinearSVC\n",
    "import random"
   ]
  },
  {
   "cell_type": "code",
   "execution_count": 2,
   "metadata": {},
   "outputs": [
    {
     "name": "stdout",
     "output_type": "stream",
     "text": [
      "(50000, 2)\n"
     ]
    },
    {
     "data": {
      "text/html": [
       "<div>\n",
       "<style scoped>\n",
       "    .dataframe tbody tr th:only-of-type {\n",
       "        vertical-align: middle;\n",
       "    }\n",
       "\n",
       "    .dataframe tbody tr th {\n",
       "        vertical-align: top;\n",
       "    }\n",
       "\n",
       "    .dataframe thead th {\n",
       "        text-align: right;\n",
       "    }\n",
       "</style>\n",
       "<table border=\"1\" class=\"dataframe\">\n",
       "  <thead>\n",
       "    <tr style=\"text-align: right;\">\n",
       "      <th></th>\n",
       "      <th>review</th>\n",
       "      <th>sentiment</th>\n",
       "    </tr>\n",
       "  </thead>\n",
       "  <tbody>\n",
       "    <tr>\n",
       "      <th>0</th>\n",
       "      <td>One of the other reviewers has mentioned that ...</td>\n",
       "      <td>positive</td>\n",
       "    </tr>\n",
       "    <tr>\n",
       "      <th>1</th>\n",
       "      <td>A wonderful little production. &lt;br /&gt;&lt;br /&gt;The...</td>\n",
       "      <td>positive</td>\n",
       "    </tr>\n",
       "    <tr>\n",
       "      <th>2</th>\n",
       "      <td>I thought this was a wonderful way to spend ti...</td>\n",
       "      <td>positive</td>\n",
       "    </tr>\n",
       "    <tr>\n",
       "      <th>3</th>\n",
       "      <td>Basically there's a family where a little boy ...</td>\n",
       "      <td>negative</td>\n",
       "    </tr>\n",
       "    <tr>\n",
       "      <th>4</th>\n",
       "      <td>Petter Mattei's \"Love in the Time of Money\" is...</td>\n",
       "      <td>positive</td>\n",
       "    </tr>\n",
       "  </tbody>\n",
       "</table>\n",
       "</div>"
      ],
      "text/plain": [
       "                                              review sentiment\n",
       "0  One of the other reviewers has mentioned that ...  positive\n",
       "1  A wonderful little production. <br /><br />The...  positive\n",
       "2  I thought this was a wonderful way to spend ti...  positive\n",
       "3  Basically there's a family where a little boy ...  negative\n",
       "4  Petter Mattei's \"Love in the Time of Money\" is...  positive"
      ]
     },
     "execution_count": 2,
     "metadata": {},
     "output_type": "execute_result"
    }
   ],
   "source": [
    "imdb = \"E:/Momo/Datasets/imdbreviews/IMDB Dataset.csv\"\n",
    "\n",
    "df = pd.read_csv(imdb)\n",
    "print(df.shape)\n",
    "df.head()"
   ]
  },
  {
   "cell_type": "code",
   "execution_count": 3,
   "metadata": {},
   "outputs": [
    {
     "data": {
      "text/plain": [
       "review       0\n",
       "sentiment    0\n",
       "dtype: int64"
      ]
     },
     "execution_count": 3,
     "metadata": {},
     "output_type": "execute_result"
    }
   ],
   "source": [
    "df.isnull().sum()"
   ]
  },
  {
   "cell_type": "code",
   "execution_count": 4,
   "metadata": {},
   "outputs": [
    {
     "data": {
      "text/html": [
       "<div>\n",
       "<style scoped>\n",
       "    .dataframe tbody tr th:only-of-type {\n",
       "        vertical-align: middle;\n",
       "    }\n",
       "\n",
       "    .dataframe tbody tr th {\n",
       "        vertical-align: top;\n",
       "    }\n",
       "\n",
       "    .dataframe thead th {\n",
       "        text-align: right;\n",
       "    }\n",
       "</style>\n",
       "<table border=\"1\" class=\"dataframe\">\n",
       "  <thead>\n",
       "    <tr style=\"text-align: right;\">\n",
       "      <th></th>\n",
       "      <th>review</th>\n",
       "      <th>sentiment</th>\n",
       "    </tr>\n",
       "  </thead>\n",
       "  <tbody>\n",
       "    <tr>\n",
       "      <th>0</th>\n",
       "      <td>reviewers mentioned watching oz episode you'll...</td>\n",
       "      <td>positive</td>\n",
       "    </tr>\n",
       "    <tr>\n",
       "      <th>1</th>\n",
       "      <td>wonderful little production. filming technique...</td>\n",
       "      <td>positive</td>\n",
       "    </tr>\n",
       "    <tr>\n",
       "      <th>2</th>\n",
       "      <td>thought wonderful way spend time hot summer we...</td>\n",
       "      <td>positive</td>\n",
       "    </tr>\n",
       "    <tr>\n",
       "      <th>3</th>\n",
       "      <td>basically there's family little boy (jake) thi...</td>\n",
       "      <td>negative</td>\n",
       "    </tr>\n",
       "    <tr>\n",
       "      <th>4</th>\n",
       "      <td>petter mattei's \"love time money\" visually stu...</td>\n",
       "      <td>positive</td>\n",
       "    </tr>\n",
       "  </tbody>\n",
       "</table>\n",
       "</div>"
      ],
      "text/plain": [
       "                                              review sentiment\n",
       "0  reviewers mentioned watching oz episode you'll...  positive\n",
       "1  wonderful little production. filming technique...  positive\n",
       "2  thought wonderful way spend time hot summer we...  positive\n",
       "3  basically there's family little boy (jake) thi...  negative\n",
       "4  petter mattei's \"love time money\" visually stu...  positive"
      ]
     },
     "execution_count": 4,
     "metadata": {},
     "output_type": "execute_result"
    }
   ],
   "source": [
    "def clean_text(text):\n",
    "    text=str(text).lower()\n",
    "    text=re.sub('\\[.*?\\]', '', text)\n",
    "    text=re.sub('https?://\\S+|www\\.\\S+', '', text)\n",
    "    text=re.sub('<.*?>+', '', text)\n",
    "    text = re.sub('\\n', '', text)\n",
    "    text = re.sub('\\w*\\d\\w*', '', text)\n",
    "    text = gensim.parsing.remove_stopwords(text)\n",
    "    return text\n",
    "\n",
    "df['review']=df['review'].apply(clean_text)\n",
    "df.head()"
   ]
  },
  {
   "cell_type": "code",
   "execution_count": 5,
   "metadata": {},
   "outputs": [
    {
     "name": "stdout",
     "output_type": "stream",
     "text": [
      "(35000,) (15000,)\n"
     ]
    }
   ],
   "source": [
    "# Split features and labels\n",
    "X = df[\"review\"]\n",
    "y = df[\"sentiment\"]\n",
    "\n",
    "# Split train and test set\n",
    "X_train, X_test, y_train, y_test = train_test_split(X,y,test_size=0.3,random_state=0)\n",
    "\n",
    "print(X_train.shape, X_test.shape)"
   ]
  },
  {
   "cell_type": "code",
   "execution_count": 6,
   "metadata": {},
   "outputs": [],
   "source": [
    "# Create feature vectors\n",
    "vectorizer = CountVectorizer()\n",
    "train_vectors = vectorizer.fit_transform(X_train)\n",
    "test_vectors = vectorizer.transform(X_test)"
   ]
  },
  {
   "cell_type": "code",
   "execution_count": 7,
   "metadata": {},
   "outputs": [],
   "source": [
    "def fitness(tol, C, intercept_scaling):\n",
    "    model = LinearSVC(tol=tol, C=C, intercept_scaling=intercept_scaling)\n",
    "    model.fit(train_vectors, y_train)\n",
    "    y_pred = model.predict(test_vectors)\n",
    "    return accuracy_score(y_test, y_pred)"
   ]
  },
  {
   "cell_type": "code",
   "execution_count": 8,
   "metadata": {},
   "outputs": [],
   "source": [
    "#initial population\n",
    "population = []\n",
    "for i in range(10):\n",
    "    population.append( ( random.uniform(0, 5),\n",
    "                      random.uniform(0, 5),\n",
    "                      random.uniform(0, 5) ) )\n",
    "    \n",
    "temp = ()"
   ]
  },
  {
   "cell_type": "code",
   "execution_count": 12,
   "metadata": {},
   "outputs": [
    {
     "name": "stdout",
     "output_type": "stream",
     "text": [
      "0 0.8704\n",
      "1 0.8698\n",
      "2 0.8694\n",
      "3 0.8682\n",
      "4 0.869\n",
      "5 0.8706\n",
      "6 0.868\n",
      "7 0.8690666666666667\n",
      "8 0.8677333333333334\n",
      "9 0.8671333333333333\n",
      "10 0.8687333333333334\n",
      "11 0.8692\n",
      "12 0.8713333333333333\n",
      "13 0.8724666666666666\n",
      "14 0.8720666666666667\n",
      "15 0.8708666666666667\n",
      "16 0.871\n",
      "17 0.8708666666666667\n",
      "18 0.8707333333333334\n",
      "19 0.8714666666666666\n",
      "20 0.8728\n",
      "21 0.8721333333333333\n",
      "22 0.8732\n",
      "23 0.8730666666666667\n",
      "24 0.8716\n",
      "25 0.8734666666666666\n",
      "26 0.8704666666666667\n",
      "27 0.8742\n",
      "28 0.8718\n",
      "29 0.8756\n",
      "30 0.873\n",
      "31 0.8718666666666667\n",
      "32 0.8718666666666667\n",
      "33 0.8738\n",
      "34 0.8739333333333333\n",
      "35 0.8728666666666667\n"
     ]
    }
   ],
   "source": [
    "#implemention Genetic Algoritm\n",
    "\n",
    "max_acc = (0, (0, 0, 0))\n",
    "\n",
    "for it in range(100):\n",
    "    lkj = 0\n",
    "    rank = []\n",
    "    for individual in population:\n",
    "        acc = fitness(individual[0], individual[1], individual[2])\n",
    "        rank.append((acc, individual))\n",
    "    \n",
    "    rank.sort()\n",
    "    rank.reverse()\n",
    "    rank = rank[:5]\n",
    "    pool = []\n",
    "    for i in rank:\n",
    "        pool.append(i[1][0])\n",
    "        pool.append(i[1][1])\n",
    "        pool.append(i[1][2])\n",
    "\n",
    "    new_population = []\n",
    "    for _ in range(10):\n",
    "        x = random.choice(pool) * random.uniform(0.9, 1.1)\n",
    "        y = random.choice(pool) * random.uniform(0.99, 1.01)\n",
    "        z = random.choice(pool) * random.uniform(0.99, 1.01)\n",
    "        new_population.append((x, y, z))\n",
    "\n",
    "    population = new_population\n",
    "    local_best_fit = rank[0][1]\n",
    "    \n",
    "    # if fitness(local_best_fit[0], local_best_fit[1], local_best_fit[2]) >= 90:\n",
    "    #     print(local_best_fit)\n",
    "    #     temp = local_best_fit\n",
    "    #     break\n",
    "    if rank[0][0] > max_acc[0]:\n",
    "        max_acc = (rank[0][0], local_best_fit)\n",
    "    print(it, rank[0][0])\n",
    "\n",
    "print(max_acc)"
   ]
  },
  {
   "cell_type": "code",
   "execution_count": 28,
   "metadata": {},
   "outputs": [
    {
     "name": "stderr",
     "output_type": "stream",
     "text": [
      "c:\\Users\\AYUSH\\AppData\\Local\\Programs\\Python\\Python310\\lib\\site-packages\\sklearn\\svm\\_base.py:1244: ConvergenceWarning: Liblinear failed to converge, increase the number of iterations.\n",
      "  warnings.warn(\n"
     ]
    },
    {
     "data": {
      "text/plain": [
       "0.8616"
      ]
     },
     "execution_count": 28,
     "metadata": {},
     "output_type": "execute_result"
    }
   ],
   "source": [
    "fitness(1e-4, 1.0, 1.0)"
   ]
  }
 ],
 "metadata": {
  "kernelspec": {
   "display_name": "Python 3",
   "language": "python",
   "name": "python3"
  },
  "language_info": {
   "codemirror_mode": {
    "name": "ipython",
    "version": 3
   },
   "file_extension": ".py",
   "mimetype": "text/x-python",
   "name": "python",
   "nbconvert_exporter": "python",
   "pygments_lexer": "ipython3",
   "version": "3.10.9"
  },
  "orig_nbformat": 4
 },
 "nbformat": 4,
 "nbformat_minor": 2
}
